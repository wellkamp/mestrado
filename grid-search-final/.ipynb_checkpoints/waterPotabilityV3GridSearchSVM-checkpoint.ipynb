{
 "cells": [
  {
   "cell_type": "code",
   "execution_count": 1,
   "id": "71ee58b7",
   "metadata": {
    "id": "71ee58b7"
   },
   "outputs": [],
   "source": [
    "import numpy as np\n",
    "import pandas as pd\n",
    "import matplotlib.pyplot as plt\n",
    "import seaborn as sns\n",
    "from sklearn.model_selection import train_test_split\n",
    "from sklearn.svm import SVC\n",
    "from sklearn.metrics import accuracy_score\n",
    "import seaborn as sns\n",
    "from sklearn.preprocessing import StandardScaler\n",
    "from sklearn.preprocessing import LabelEncoder\n",
    "from sklearn.naive_bayes import GaussianNB\n",
    "from sklearn.tree import DecisionTreeClassifier\n",
    "from sklearn.metrics import confusion_matrix, classification_report\n",
    "from matplotlib import pyplot as plt\n",
    "import scipy.stats as stats\n",
    "from sklearn.ensemble import RandomForestClassifier\n",
    "from sklearn.linear_model import LogisticRegression\n",
    "from sklearn.pipeline import make_pipeline\n",
    "from sklearn.model_selection import cross_val_score\n",
    "from sklearn.feature_selection import SelectFromModel\n",
    "from sklearn.svm import LinearSVC\n",
    "from sklearn.pipeline import Pipeline\n",
    "from sklearn.ensemble import VotingClassifier\n",
    "from sklearn.model_selection import GridSearchCV\n",
    "from sklearn.model_selection import RepeatedStratifiedKFold\n",
    "from sklearn.model_selection import KFold\n",
    "from sklearn.model_selection import cross_validate\n",
    "from sklearn.ensemble import AdaBoostClassifier\n",
    "from sklearn.model_selection import GridSearchCV\n",
    "from sklearn.ensemble import GradientBoostingClassifier\n",
    "from sklearn.metrics import roc_auc_score,roc_curve\n",
    "from sklearn.metrics import confusion_matrix, ConfusionMatrixDisplay\n",
    "from sklearn.tree import export_graphviz, plot_tree\n",
    "from sklearn import tree\n",
    "import graphviz\n",
    "from sklearn.inspection import permutation_importance\n",
    "from sklearn.neural_network import MLPClassifier\n",
    "from sklearn.linear_model import Perceptron\n",
    "from sklearn.tree import DecisionTreeClassifier\n",
    "from sklearn.naive_bayes import GaussianNB\n",
    "from sklearn.ensemble import RandomForestClassifier\n",
    "from sklearn.ensemble import ExtraTreesClassifier\n",
    "from sklearn.linear_model import LogisticRegression\n",
    "from sklearn.model_selection import GridSearchCV\n",
    "from sklearn.model_selection import train_test_split\n",
    "from sklearn.svm import SVC\n",
    "import seaborn as sns\n",
    "import matplotlib.pyplot as plt\n",
    "import scipy.stats as stats\n",
    "from sklearn.preprocessing import StandardScaler, MinMaxScaler\n",
    "from sklearn.metrics import confusion_matrix, ConfusionMatrixDisplay, precision_score, accuracy_score\n",
    "from collections import Counter\n",
    "from sklearn.preprocessing import LabelEncoder\n",
    "from sklearn.impute import SimpleImputer, KNNImputer\n",
    "from sklearn.model_selection import GridSearchCV, RepeatedStratifiedKFold\n",
    "import six\n",
    "from sklearn.model_selection import LeaveOneOut\n",
    "from sklearn.model_selection import cross_val_score\n",
    "from numpy import mean\n",
    "from numpy import std\n",
    "from numpy import absolute\n",
    "from imblearn.over_sampling import SMOTE\n",
    "from random import randint\n",
    "from sklearn.svm import SVC\n",
    "import impyute as impy\n",
    "from sklearn.decomposition import PCA\n",
    "from imblearn.over_sampling import RandomOverSampler\n",
    "from xgboost import XGBClassifier\n",
    "from sklearn.kernel_approximation import SkewedChi2Sampler\n",
    "from sklearn.model_selection import RepeatedKFold\n"
   ]
  },
  {
   "cell_type": "markdown",
   "id": "DwBEu927jux0",
   "metadata": {
    "id": "DwBEu927jux0"
   },
   "source": [
    "# Constantes"
   ]
  },
  {
   "cell_type": "code",
   "execution_count": 2,
   "id": "38rDlCqpjwgY",
   "metadata": {
    "id": "38rDlCqpjwgY"
   },
   "outputs": [],
   "source": [
    "TESTE_SIZE_30 = 0.3\n",
    "TESTE_SIZE_25 = 0.25\n",
    "TESTE_SIZE_20 = 0.2\n",
    "RANDOM_SEED = 42\n",
    "TEST_MONTE_CARLO = 10\n",
    "RESULTS = {\n",
    "    \"Algoritmo\": [],\n",
    "    \"Acurácia\": [],\n",
    "    \"F1_score\": [],\n",
    "    \"Taxa_VP\": [],\n",
    "    \"Precisão\": [],\n",
    "    \"AUC\": []\n",
    "}\n",
    "COLUNMS = ['ph','Sulfate', 'Turbidity', 'Conductivity']\n",
    "ALL_COLUMNS = ['ph','Hardness','Solids', 'Chloramines', 'Sulfate', \n",
    "               'Conductivity','Organic_carbon', 'Trihalomethanes', 'Turbidity',\n",
    "                'Potability']\n",
    "SPLITS = ['split0_test_score', 'split1_test_score', \n",
    "          'split2_test_score', 'split3_test_score', \n",
    "          'split4_test_score', 'split5_test_score',\n",
    "          'split6_test_score', 'split7_test_score', \n",
    "          'split8_test_score', 'split9_test_score']"
   ]
  },
  {
   "cell_type": "markdown",
   "id": "bfa27d83",
   "metadata": {
    "id": "bfa27d83"
   },
   "source": [
    "# Funções Auxiliares"
   ]
  },
  {
   "cell_type": "code",
   "execution_count": 3,
   "id": "6e4124a8",
   "metadata": {},
   "outputs": [],
   "source": [
    "def expectation_maximazation_to_data_frame(df, columns):\n",
    "    df_em_imputed = impy.em(df.values)\n",
    "    return pd.DataFrame(df_em_imputed, columns=columns)"
   ]
  },
  {
   "cell_type": "code",
   "execution_count": 4,
   "id": "e597f52b",
   "metadata": {},
   "outputs": [],
   "source": [
    "def smote_balance(X, y, n=42):\n",
    "    oversample = SMOTE(random_state=n)\n",
    "    X, y = oversample.fit_resample(X, y)\n",
    "    return X, y"
   ]
  },
  {
   "cell_type": "code",
   "execution_count": 5,
   "id": "EHE4ashuimSO",
   "metadata": {
    "id": "EHE4ashuimSO"
   },
   "outputs": [],
   "source": [
    "def standardize_data(df):\n",
    "    scaler = StandardScaler()\n",
    "    return pd.DataFrame(scaler.fit_transform(df))"
   ]
  },
  {
   "cell_type": "code",
   "execution_count": 6,
   "id": "HBk9ZqJbilJ8",
   "metadata": {
    "id": "HBk9ZqJbilJ8"
   },
   "outputs": [],
   "source": [
    "def normalize_data(df):\n",
    "    scaler = MinMaxScaler()\n",
    "    return pd.DataFrame(scaler.fit_transform(df), columns=list(df.columns))"
   ]
  },
  {
   "cell_type": "code",
   "execution_count": 7,
   "id": "J3g1emDZijKP",
   "metadata": {
    "id": "J3g1emDZijKP"
   },
   "outputs": [],
   "source": [
    "def knn_imputer(df):\n",
    "    imputer = KNNImputer(n_neighbors=5)\n",
    "    return pd.DataFrame(imputer.fit_transform(df),columns = df.columns)"
   ]
  },
  {
   "cell_type": "code",
   "execution_count": 8,
   "id": "jxVFYu6Yih60",
   "metadata": {
    "id": "jxVFYu6Yih60"
   },
   "outputs": [],
   "source": [
    "def outlier_limits(df, col_name, q1 = 0.25, q3 = 0.75):\n",
    "    quartile1 = df[col_name].quantile(q1)\n",
    "    quartile3 = df[col_name].quantile(q3)\n",
    "    interquantile_range = quartile3 - quartile1\n",
    "    up_limit = quartile3 + 1.5 * interquantile_range\n",
    "    low_limit = quartile1 - 1.5 * interquantile_range\n",
    "    return low_limit, up_limit\n",
    "\n",
    "def replace_with_limits(df, variable, q1 = 0.25, q3 = 0.75):\n",
    "    low_limit, up_limit = outlier_limits(df, variable, q1 = q1, q3 = q3)\n",
    "    df.loc[(df[variable] < low_limit), variable] = low_limit\n",
    "    df.loc[(df[variable] > up_limit), variable] = up_limit\n",
    "    \n",
    "def replace_with_mean(df, variable, q1 = 0.25, q3 = 0.75):\n",
    "    low_limit, up_limit = outlier_limits(df, variable, q1 = q1, q3 = q3)\n",
    "    df.loc[(df[variable] < low_limit), variable] = df[variable].mean()\n",
    "    df.loc[(df[variable] > up_limit), variable] = df[variable].mean()\n",
    "\n",
    "def replace_with_median(df, variable, q1 = 0.25, q3 = 0.75):\n",
    "    low_limit, up_limit = outlier_limits(df, variable, q1 = q1, q3 = q3)\n",
    "    df.loc[(df[variable] < low_limit), variable] = df[variable].median()\n",
    "    df.loc[(df[variable] > up_limit), variable] = df[variable].median()\n",
    "\n",
    "def remove_iqr_outliers(df, variable, q1 = 0.25, q3 = 0.75):\n",
    "    low_limit, up_limit = outlier_limits(df, variable, q1 = q1, q3 = q3)\n",
    "    df.loc[(df[variable] < low_limit), variable] = np.nan\n",
    "    df.loc[(df[variable] > up_limit), variable] = np.nan\n",
    "    \n",
    "def remove_outliers_iqr(data):\n",
    "    numerics = ['int16', 'int32', 'int64', 'float16', 'float32', 'float64']\n",
    "    data = data.select_dtypes(include=numerics)\n",
    "\n",
    "    for i in data.columns:\n",
    "        Q1 = data[i].quantile(0.25)\n",
    "        Q3 = data[i].quantile(0.75)\n",
    "        IQR = Q3 - Q1\n",
    "    \n",
    "        data = data[~((data[i] < (Q1 - 1.5 * IQR)) | (data[i] > (Q3 + 1.5 * IQR)))]\n",
    "\n",
    "    return data"
   ]
  },
  {
   "cell_type": "code",
   "execution_count": 9,
   "id": "XnPApV8FigvQ",
   "metadata": {
    "id": "XnPApV8FigvQ"
   },
   "outputs": [],
   "source": [
    "def simple_imputer_median(X_train, X_test):\n",
    "    imputer = SimpleImputer(strategy='median')\n",
    "    imputer.fit(X_train)\n",
    "    X_train = imputer.transform(X_train)\n",
    "    X_test = imputer.transform(X_test)\n",
    "\n",
    "    return X_train, X_test"
   ]
  },
  {
   "cell_type": "code",
   "execution_count": 10,
   "id": "138111cc",
   "metadata": {
    "id": "138111cc"
   },
   "outputs": [],
   "source": [
    "def min_max_values(df):\n",
    "    for index in df.columns:\n",
    "        print(f'{index} - min: {df[index].min()}, max:{df[index].max()}')"
   ]
  },
  {
   "cell_type": "code",
   "execution_count": 11,
   "id": "dbe831bd",
   "metadata": {
    "id": "dbe831bd"
   },
   "outputs": [],
   "source": [
    "def exclude_duplicated(data):\n",
    "    return data.drop_duplicates()"
   ]
  },
  {
   "cell_type": "code",
   "execution_count": 12,
   "id": "56c91a47",
   "metadata": {
    "id": "56c91a47"
   },
   "outputs": [],
   "source": [
    "def remove_outliers(dados):\n",
    "    z = np.abs(stats.zscore(dados))\n",
    "    return dados[(z<3).all(axis=1)]"
   ]
  },
  {
   "cell_type": "code",
   "execution_count": 13,
   "id": "3f38e209",
   "metadata": {
    "id": "3f38e209"
   },
   "outputs": [],
   "source": [
    "def plot_conf():\n",
    "    plt.plot([0, 1], [0, 1],'r--')\n",
    "    plt.xlim([0.0, 1.0])\n",
    "    plt.ylim([0.0, 1.05])\n",
    "    plt.xlabel('Especificidade(Taxa de Falso Positivo)')\n",
    "    plt.ylabel('Sensibilidade(Taxa de Verdadeiro Positivo)')\n",
    "    plt.title('ROC')\n",
    "    plt.legend(loc=\"lower right\")\n",
    "    plt.show()   # Display"
   ]
  },
  {
   "cell_type": "code",
   "execution_count": 14,
   "id": "7a1b233e",
   "metadata": {
    "id": "7a1b233e"
   },
   "outputs": [],
   "source": [
    "def plot_dt_graph(X, modelo):\n",
    "    features = X.columns\n",
    "    dot_data = export_graphviz(modelo, out_file=None, \n",
    "                               filled = True, rounded = True,\n",
    "                               feature_names=features,\n",
    "                               class_names = ['não', 'sim'])\n",
    "    grafico = graphviz.Source(dot_data)\n",
    "    \n",
    "    return grafico"
   ]
  },
  {
   "cell_type": "markdown",
   "id": "WEDUE9j3TS83",
   "metadata": {
    "id": "WEDUE9j3TS83"
   },
   "source": [
    "# GRIDSEARCH"
   ]
  },
  {
   "cell_type": "code",
   "execution_count": 15,
   "id": "bc86cd25",
   "metadata": {},
   "outputs": [],
   "source": [
    "def get_X_chi2_feature(X, y):\n",
    "    chi2_feature = SkewedChi2Sampler(skewedness=.01, n_components=N_COMPONENTS, random_state=RANDOM_SEED)\n",
    "    \n",
    "    return chi2_feature.fit_transform(X, y)"
   ]
  },
  {
   "cell_type": "code",
   "execution_count": 16,
   "id": "bb68d58a",
   "metadata": {},
   "outputs": [],
   "source": [
    "def expectation_maximization_to_data_frame(df, columns):\n",
    "    df_em_imputed = impy.em(df.values)\n",
    "    return pd.DataFrame(df_em_imputed, columns=columns)"
   ]
  },
  {
   "cell_type": "code",
   "execution_count": 17,
   "id": "721fc1c3",
   "metadata": {},
   "outputs": [],
   "source": [
    "def smote_balance(X, y):\n",
    "    oversample = SMOTE()\n",
    "    X, y = oversample.fit_resample(X, y)\n",
    "    return X, y"
   ]
  },
  {
   "cell_type": "code",
   "execution_count": 18,
   "id": "2c05dcca",
   "metadata": {},
   "outputs": [],
   "source": [
    "def best_score_by_split(cv_results, best_score_by_splits = 0, best_split = ''):\n",
    "    for key in cv_results.keys():\n",
    "        if key in SPLITS:\n",
    "            if best_score_by_splits < cv_results[key].max():\n",
    "                best_score_by_splits = cv_results[key].max()\n",
    "                best_split = key\n",
    "    return round(best_score_by_splits * 100, 2), best_split"
   ]
  },
  {
   "cell_type": "markdown",
   "id": "e261695d",
   "metadata": {},
   "source": [
    "## ADABOOST"
   ]
  },
  {
   "cell_type": "code",
   "execution_count": 19,
   "id": "ecc641ff",
   "metadata": {},
   "outputs": [],
   "source": [
    "GRID = [\n",
    "    {\n",
    "        'scaler': [StandardScaler(), MinMaxScaler()],\n",
    "        'estimator': [SVC()],\n",
    "        'estimator__C': [0.1,1,5,10,20,50,100],\n",
    "        'estimator__kernel': ['rbf'],\n",
    "        'estimator__degree': [1,2,3],\n",
    "        'estimator__gamma': [1, 0.1, 0.01, 0.001]\n",
    "     }\n",
    "]"
   ]
  },
  {
   "cell_type": "code",
   "execution_count": 20,
   "id": "5dd5b35a",
   "metadata": {},
   "outputs": [
    {
     "data": {
      "image/png": "[encoded data removed]",
      "text/plain": [
       "<Figure size 432x288 with 1 Axes>"
      ]
     },
     "metadata": {
      "needs_background": "light"
     },
     "output_type": "display_data"
    },
    {
     "data": {
      "image/png": "[encoded data removed]",
      "text/plain": [
       "<Figure size 432x288 with 1 Axes>"
      ]
     },
     "metadata": {
      "needs_background": "light"
     },
     "output_type": "display_data"
    },
    {
     "data": {
      "image/png": "[encoded data removed]",
      "text/plain": [
       "<Figure size 432x288 with 1 Axes>"
      ]
     },
     "metadata": {
      "needs_background": "light"
     },
     "output_type": "display_data"
    },
    {
     "data": {
      "image/png": "[encoded data removed]",
      "text/plain": [
       "<Figure size 432x288 with 1 Axes>"
      ]
     },
     "metadata": {
      "needs_background": "light"
     },
     "output_type": "display_data"
    },
    {
     "data": {
      "image/png": "[encoded data removed]",
      "text/plain": [
       "<Figure size 432x288 with 1 Axes>"
      ]
     },
     "metadata": {
      "needs_background": "light"
     },
     "output_type": "display_data"
    },
    {
     "data": {
      "image/png": "[encoded data removed]",
      "text/plain": [
       "<Figure size 432x288 with 1 Axes>"
      ]
     },
     "metadata": {
      "needs_background": "light"
     },
     "output_type": "display_data"
    },
    {
     "data": {
      "image/png": "[encoded data removed]",
      "text/plain": [
       "<Figure size 432x288 with 1 Axes>"
      ]
     },
     "metadata": {
      "needs_background": "light"
     },
     "output_type": "display_data"
    },
    {
     "data": {
      "image/png": "[encoded data removed]",
      "text/plain": [
       "<Figure size 432x288 with 1 Axes>"
      ]
     },
     "metadata": {
      "needs_background": "light"
     },
     "output_type": "display_data"
    },
    {
     "data": {
      "image/png": "[encoded data removed]",
      "text/plain": [
       "<Figure size 432x288 with 1 Axes>"
      ]
     },
     "metadata": {
      "needs_background": "light"
     },
     "output_type": "display_data"
    },
    {
     "data": {
      "image/png": "[encoded data removed]",
      "text/plain": [
       "<Figure size 432x288 with 1 Axes>"
      ]
     },
     "metadata": {
      "needs_background": "light"
     },
     "output_type": "display_data"
    }
   ],
   "source": [
    "df = pd.read_csv('A:\\Mestrado\\datasets\\water_potability.csv')\n",
    "cols = list(df.columns)\n",
    "for item in cols:     \n",
    "    sns.boxplot(x = df[item])\n",
    "    plt.show()"
   ]
  },
  {
   "cell_type": "markdown",
   "id": "b3d46966",
   "metadata": {},
   "source": [
    "## Retirando valores nulos - Remover Outliers - Normalização - SMOTE"
   ]
  },
  {
   "cell_type": "code",
   "execution_count": 21,
   "id": "61a176ea",
   "metadata": {},
   "outputs": [
    {
     "name": "stdout",
     "output_type": "stream",
     "text": [
      "Best score by splits: (77.52, 'split5_test_score')\n",
      "Best score by mean: 71.11\n",
      "STD mean: 2.9\n",
      "Bbest params: {'estimator': SVC(C=5, degree=1, gamma=0.1), 'estimator__C': 5, 'estimator__degree': 1, 'estimator__gamma': 0.1, 'estimator__kernel': 'rbf', 'scaler': StandardScaler()}\n"
     ]
    }
   ],
   "source": [
    "df = pd.read_csv('A:\\Mestrado\\datasets\\water_potability.csv')\n",
    "df.dropna(inplace=True)\n",
    "df = remove_outliers_iqr(df)\n",
    "\n",
    "y = df['Potability']\n",
    "X = df.drop('Potability', axis = 1)\n",
    "\n",
    "X, y = smote_balance(X, y)\n",
    "chi2_feature = SkewedChi2Sampler(skewedness=.01, n_components=100, random_state=42)    \n",
    "X = chi2_feature.fit_transform(X, y)\n",
    "\n",
    "\n",
    "PIPELINE = Pipeline([('scaler', None), ('estimator', SVC())])\n",
    "\n",
    "cv = RepeatedKFold(n_splits=10, n_repeats=3, random_state=RANDOM_SEED)\n",
    "grid_search = GridSearchCV(estimator=PIPELINE, param_grid=GRID, \n",
    "                            scoring='accuracy', n_jobs=-1, cv=cv, refit=True, return_train_score=False)\n",
    "\n",
    "grid_result = grid_search.fit(X, y)\n",
    "\n",
    "# summarize results\n",
    "print(f'Best score by splits: {best_score_by_split(grid_result.cv_results_)}')\n",
    "print(f'Best score by mean: {round(grid_result.best_score_ * 100, 2)}')\n",
    "print(f'STD mean: {round(grid_result.cv_results_[\"std_test_score\"].sum() / grid_result.cv_results_[\"std_test_score\"].size * 100, 2)}')\n",
    "print(f'Best params: {grid_result.best_params_}')"
   ]
  },
  {
   "cell_type": "markdown",
   "id": "7b9016a3",
   "metadata": {},
   "source": [
    "### Retirando valores nulos - Substituindo Outliers média - Normalização - SMOTE\n"
   ]
  },
  {
   "cell_type": "code",
   "execution_count": 22,
   "id": "cbc52a84",
   "metadata": {},
   "outputs": [
    {
     "name": "stdout",
     "output_type": "stream",
     "text": [
      "Best score by splits: (79.17, 'split3_test_score')\n",
      "Best score by mean: 72.33\n",
      "STD mean: 2.85\n",
      "Bbest params: {'estimator': SVC(C=5, degree=1, gamma=0.1), 'estimator__C': 5, 'estimator__degree': 1, 'estimator__gamma': 0.1, 'estimator__kernel': 'rbf', 'scaler': StandardScaler()}\n"
     ]
    }
   ],
   "source": [
    "df = pd.read_csv('A:\\Mestrado\\datasets\\water_potability.csv')\n",
    "\n",
    "df.dropna(inplace=True)\n",
    "for variable in cols:\n",
    "    replace_with_mean(df, variable)\n",
    "\n",
    "y = df['Potability']\n",
    "X = df.drop('Potability', axis = 1)\n",
    "\n",
    "X, y = smote_balance(X, y)\n",
    "chi2_feature = SkewedChi2Sampler(skewedness=.01, n_components=100, random_state=42)    \n",
    "X = chi2_feature.fit_transform(X, y)\n",
    "\n",
    "PIPELINE = Pipeline([('scaler', None), ('estimator', SVC())])\n",
    "\n",
    "cv = RepeatedKFold(n_splits=10, n_repeats=3, random_state=RANDOM_SEED)\n",
    "grid_search = GridSearchCV(estimator=PIPELINE, param_grid=GRID, \n",
    "                            scoring='accuracy', n_jobs=-1, cv=cv, refit=True, return_train_score=False)\n",
    "\n",
    "grid_result = grid_search.fit(X, y)\n",
    "# summarize results\n",
    "print(f'Best score by splits: {best_score_by_split(grid_result.cv_results_)}')\n",
    "print(f'Best score by mean: {round(grid_result.best_score_ * 100, 2)}')\n",
    "print(f'STD mean: {round(grid_result.cv_results_[\"std_test_score\"].sum() / grid_result.cv_results_[\"std_test_score\"].size * 100, 2)}')\n",
    "print(f'Best params: {grid_result.best_params_}')"
   ]
  },
  {
   "cell_type": "markdown",
   "id": "57b6e754",
   "metadata": {},
   "source": [
    "### Retirando valores nulos - Substituindo Outliers mediana - Normalização - SMOTE"
   ]
  },
  {
   "cell_type": "code",
   "execution_count": 23,
   "id": "e4e22a44",
   "metadata": {},
   "outputs": [
    {
     "name": "stdout",
     "output_type": "stream",
     "text": [
      "Best score by splits: (76.67, 'split9_test_score')\n",
      "Best score by mean: 72.36\n",
      "STD mean: 2.77\n",
      "Bbest params: {'estimator': SVC(C=5, degree=1, gamma=0.1), 'estimator__C': 5, 'estimator__degree': 1, 'estimator__gamma': 0.1, 'estimator__kernel': 'rbf', 'scaler': StandardScaler()}\n"
     ]
    }
   ],
   "source": [
    "df = pd.read_csv('A:\\Mestrado\\datasets\\water_potability.csv')\n",
    "df.dropna(inplace=True)\n",
    "for variable in cols:\n",
    "    replace_with_median(df, variable)\n",
    "\n",
    "y = df['Potability']\n",
    "X = df.drop('Potability', axis = 1)\n",
    "\n",
    "X, y = smote_balance(X, y)\n",
    "chi2_feature = SkewedChi2Sampler(skewedness=.01, n_components=100, random_state=42)    \n",
    "X = chi2_feature.fit_transform(X, y)\n",
    "\n",
    "\n",
    "PIPELINE = Pipeline([('scaler', None), ('estimator', SVC())])\n",
    "\n",
    "cv = RepeatedKFold(n_splits=10, n_repeats=3, random_state=RANDOM_SEED)\n",
    "grid_search = GridSearchCV(estimator=PIPELINE, param_grid=GRID, \n",
    "                            scoring='accuracy', n_jobs=-1, cv=cv, refit=True, return_train_score=False)\n",
    "\n",
    "grid_result = grid_search.fit(X, y)\n",
    "# summarize results\n",
    "print(f'Best score by splits: {best_score_by_split(grid_result.cv_results_)}')\n",
    "print(f'Best score by mean: {round(grid_result.best_score_ * 100, 2)}')\n",
    "print(f'STD mean: {round(grid_result.cv_results_[\"std_test_score\"].sum() / grid_result.cv_results_[\"std_test_score\"].size * 100, 2)}')\n",
    "print(f'Best params: {grid_result.best_params_}')"
   ]
  },
  {
   "cell_type": "markdown",
   "id": "2c06165f",
   "metadata": {},
   "source": [
    "### Retirando valores nulos - substituindo outliers pelos valores limites superior e inferior - Normalização - SMOTE"
   ]
  },
  {
   "cell_type": "code",
   "execution_count": 24,
   "id": "8b763f28",
   "metadata": {},
   "outputs": [
    {
     "name": "stdout",
     "output_type": "stream",
     "text": [
      "Best score by splits: (79.17, 'split6_test_score')\n",
      "Best score by mean: 72.58\n",
      "STD mean: 2.75\n",
      "Bbest params: {'estimator': SVC(C=5, degree=1, gamma=0.1), 'estimator__C': 5, 'estimator__degree': 1, 'estimator__gamma': 0.1, 'estimator__kernel': 'rbf', 'scaler': StandardScaler()}\n"
     ]
    }
   ],
   "source": [
    "df = pd.read_csv('A:\\Mestrado\\datasets\\water_potability.csv')\n",
    "df.dropna(inplace=True)\n",
    "\n",
    "for variable in cols:\n",
    "    replace_with_limits(df, variable)\n",
    "\n",
    "y = df['Potability']\n",
    "X = df.drop('Potability', axis = 1)\n",
    "\n",
    "X, y = smote_balance(X, y)\n",
    "chi2_feature = SkewedChi2Sampler(skewedness=.01, n_components=100, random_state=42)    \n",
    "X = chi2_feature.fit_transform(X, y)\n",
    "\n",
    "\n",
    "PIPELINE = Pipeline([('scaler', None), ('estimator', SVC())])\n",
    "\n",
    "cv = RepeatedKFold(n_splits=10, n_repeats=3, random_state=RANDOM_SEED)\n",
    "grid_search = GridSearchCV(estimator=PIPELINE, param_grid=GRID, \n",
    "                            scoring='accuracy', n_jobs=-1, cv=cv, refit=True, return_train_score=False)\n",
    "\n",
    "grid_result = grid_search.fit(X, y)\n",
    "# summarize results\n",
    "print(f'Best score by splits: {best_score_by_split(grid_result.cv_results_)}')\n",
    "print(f'Best score by mean: {round(grid_result.best_score_ * 100, 2)}')\n",
    "print(f'STD mean: {round(grid_result.cv_results_[\"std_test_score\"].sum() / grid_result.cv_results_[\"std_test_score\"].size * 100, 2)}')\n",
    "print(f'Best params: {grid_result.best_params_}')"
   ]
  },
  {
   "cell_type": "markdown",
   "id": "a79877bc",
   "metadata": {},
   "source": [
    "### Média valores nulos - Retirando Outliers - Normalização - SMOTE"
   ]
  },
  {
   "cell_type": "code",
   "execution_count": 25,
   "id": "3da192ca",
   "metadata": {},
   "outputs": [
    {
     "name": "stdout",
     "output_type": "stream",
     "text": [
      "Best score by splits: (79.58, 'split5_test_score')\n",
      "Best score by mean: 76.77\n",
      "STD mean: 2.66\n",
      "Bbest params: {'estimator': SVC(C=5, degree=1, gamma=0.1), 'estimator__C': 5, 'estimator__degree': 1, 'estimator__gamma': 0.1, 'estimator__kernel': 'rbf', 'scaler': StandardScaler()}\n"
     ]
    }
   ],
   "source": [
    "df = pd.read_csv('A:\\Mestrado\\datasets\\water_potability.csv')\n",
    "\n",
    "df.fillna(df.mean(), inplace=True)\n",
    "df = remove_outliers_iqr(df)\n",
    "\n",
    "y = df['Potability']\n",
    "X = df.drop('Potability', axis = 1)\n",
    "\n",
    "X, y = smote_balance(X, y)\n",
    "chi2_feature = SkewedChi2Sampler(skewedness=.01, n_components=100, random_state=42)    \n",
    "X = chi2_feature.fit_transform(X, y)\n",
    "\n",
    "\n",
    "PIPELINE = Pipeline([('scaler', None), ('estimator', SVC())])\n",
    "\n",
    "cv = RepeatedKFold(n_splits=10, n_repeats=3, random_state=RANDOM_SEED)\n",
    "grid_search = GridSearchCV(estimator=PIPELINE, param_grid=GRID, \n",
    "                            scoring='accuracy', n_jobs=-1, cv=cv, refit=True, return_train_score=False)\n",
    "\n",
    "grid_result = grid_search.fit(X, y)\n",
    "# summarize results\n",
    "print(f'Best score by splits: {best_score_by_split(grid_result.cv_results_)}')\n",
    "print(f'Best score by mean: {round(grid_result.best_score_ * 100, 2)}')\n",
    "print(f'STD mean: {round(grid_result.cv_results_[\"std_test_score\"].sum() / grid_result.cv_results_[\"std_test_score\"].size * 100, 2)}')\n",
    "print(f'Best params: {grid_result.best_params_}')"
   ]
  },
  {
   "cell_type": "markdown",
   "id": "adfb770a",
   "metadata": {},
   "source": [
    "### Média valores nulos - Subs Outliers Média - Normalização - SMOTE"
   ]
  },
  {
   "cell_type": "code",
   "execution_count": 26,
   "id": "d5187169",
   "metadata": {},
   "outputs": [
    {
     "name": "stdout",
     "output_type": "stream",
     "text": [
      "Best score by splits: (76.19, 'split7_test_score')\n",
      "Best score by mean: 74.35\n",
      "STD mean: 2.05\n",
      "Bbest params: {'estimator': SVC(C=20, degree=1, gamma=0.1), 'estimator__C': 20, 'estimator__degree': 1, 'estimator__gamma': 0.1, 'estimator__kernel': 'rbf', 'scaler': StandardScaler()}\n"
     ]
    }
   ],
   "source": [
    "df = pd.read_csv('A:\\Mestrado\\datasets\\water_potability.csv')\n",
    "\n",
    "df.fillna(df.mean(), inplace=True)\n",
    "for variable in cols:\n",
    "    replace_with_mean(df, variable)\n",
    "\n",
    "y = df['Potability']\n",
    "X = df.drop('Potability', axis = 1)\n",
    "\n",
    "X, y = smote_balance(X, y)\n",
    "chi2_feature = SkewedChi2Sampler(skewedness=.01, n_components=100, random_state=42)    \n",
    "X = chi2_feature.fit_transform(X, y)\n",
    "\n",
    "\n",
    "PIPELINE = Pipeline([('scaler', None), ('estimator', SVC())])\n",
    "\n",
    "cv = RepeatedKFold(n_splits=10, n_repeats=3, random_state=RANDOM_SEED)\n",
    "grid_search = GridSearchCV(estimator=PIPELINE, param_grid=GRID, \n",
    "                            scoring='accuracy', n_jobs=-1, cv=cv, refit=True, return_train_score=False)\n",
    "\n",
    "grid_result = grid_search.fit(X, y)\n",
    "# summarize results\n",
    "print(f'Best score by splits: {best_score_by_split(grid_result.cv_results_)}')\n",
    "print(f'Best score by mean: {round(grid_result.best_score_ * 100, 2)}')\n",
    "print(f'STD mean: {round(grid_result.cv_results_[\"std_test_score\"].sum() / grid_result.cv_results_[\"std_test_score\"].size * 100, 2)}')\n",
    "print(f'Best params: {grid_result.best_params_}')"
   ]
  },
  {
   "cell_type": "markdown",
   "id": "f35512a3",
   "metadata": {},
   "source": [
    "### Média valores nulos - Subs Outliers Mediana - Normalização - SMOTE\n"
   ]
  },
  {
   "cell_type": "code",
   "execution_count": 27,
   "id": "cf85f139",
   "metadata": {},
   "outputs": [
    {
     "name": "stdout",
     "output_type": "stream",
     "text": [
      "Best score by splits: (76.94, 'split6_test_score')\n",
      "Best score by mean: 74.28\n",
      "STD mean: 2.12\n",
      "Bbest params: {'estimator': SVC(C=5, degree=1, gamma=0.1), 'estimator__C': 5, 'estimator__degree': 1, 'estimator__gamma': 0.1, 'estimator__kernel': 'rbf', 'scaler': StandardScaler()}\n"
     ]
    }
   ],
   "source": [
    "df = pd.read_csv('A:\\Mestrado\\datasets\\water_potability.csv')\n",
    "\n",
    "df.fillna(df.mean(), inplace=True)\n",
    "for variable in cols:\n",
    "    replace_with_median(df, variable)\n",
    "\n",
    "y = df['Potability']\n",
    "X = df.drop('Potability', axis = 1)\n",
    "\n",
    "X, y = smote_balance(X, y)\n",
    "chi2_feature = SkewedChi2Sampler(skewedness=.01, n_components=100, random_state=42)    \n",
    "X = chi2_feature.fit_transform(X, y)\n",
    "\n",
    "\n",
    "PIPELINE = Pipeline([('scaler', None), ('estimator', SVC())])\n",
    "\n",
    "cv = RepeatedKFold(n_splits=10, n_repeats=3, random_state=RANDOM_SEED)\n",
    "grid_search = GridSearchCV(estimator=PIPELINE, param_grid=GRID, \n",
    "                            scoring='accuracy', n_jobs=-1, cv=cv, refit=True, return_train_score=False)\n",
    "\n",
    "grid_result = grid_search.fit(X, y)\n",
    "# summarize results\n",
    "print(f'Best score by splits: {best_score_by_split(grid_result.cv_results_)}')\n",
    "print(f'Best score by mean: {round(grid_result.best_score_ * 100, 2)}')\n",
    "print(f'STD mean: {round(grid_result.cv_results_[\"std_test_score\"].sum() / grid_result.cv_results_[\"std_test_score\"].size * 100, 2)}')\n",
    "print(f'Best params: {grid_result.best_params_}')"
   ]
  },
  {
   "cell_type": "markdown",
   "id": "011a1931",
   "metadata": {},
   "source": [
    "## Média valores nulos - Subs outliers valores limites - Normalização - SMOTE"
   ]
  },
  {
   "cell_type": "code",
   "execution_count": 28,
   "id": "e51147ee",
   "metadata": {},
   "outputs": [
    {
     "name": "stdout",
     "output_type": "stream",
     "text": [
      "Best score by splits: (77.44, 'split9_test_score')\n",
      "Best score by mean: 74.62\n",
      "STD mean: 2.03\n",
      "Bbest params: {'estimator': SVC(C=5, degree=1, gamma=0.1), 'estimator__C': 5, 'estimator__degree': 1, 'estimator__gamma': 0.1, 'estimator__kernel': 'rbf', 'scaler': StandardScaler()}\n"
     ]
    }
   ],
   "source": [
    "df = pd.read_csv('A:\\Mestrado\\datasets\\water_potability.csv')\n",
    "df.fillna(df.mean(), inplace=True)\n",
    "\n",
    "for variable in cols:\n",
    "    replace_with_limits(df, variable)\n",
    "\n",
    "y = df['Potability']\n",
    "X = df.drop('Potability', axis = 1)\n",
    "\n",
    "X, y = smote_balance(X, y)\n",
    "chi2_feature = SkewedChi2Sampler(skewedness=.01, n_components=100, random_state=42)    \n",
    "X = chi2_feature.fit_transform(X, y)\n",
    "\n",
    "\n",
    "PIPELINE = Pipeline([('scaler', None), ('estimator', SVC())])\n",
    "\n",
    "cv = RepeatedKFold(n_splits=10, n_repeats=3, random_state=RANDOM_SEED)\n",
    "grid_search = GridSearchCV(estimator=PIPELINE, param_grid=GRID, \n",
    "                            scoring='accuracy', n_jobs=-1, cv=cv, refit=True, return_train_score=False)\n",
    "\n",
    "grid_result = grid_search.fit(X, y)\n",
    "# summarize results\n",
    "print(f'Best score by splits: {best_score_by_split(grid_result.cv_results_)}')\n",
    "print(f'Best score by mean: {round(grid_result.best_score_ * 100, 2)}')\n",
    "print(f'STD mean: {round(grid_result.cv_results_[\"std_test_score\"].sum() / grid_result.cv_results_[\"std_test_score\"].size * 100, 2)}')\n",
    "print(f'Best params: {grid_result.best_params_}')"
   ]
  },
  {
   "cell_type": "markdown",
   "id": "b46a9c28",
   "metadata": {},
   "source": [
    "### Mediana valores nulos - Retirar outliers - Normalização - SMOTE"
   ]
  },
  {
   "cell_type": "code",
   "execution_count": 29,
   "id": "43108b2b",
   "metadata": {},
   "outputs": [
    {
     "name": "stdout",
     "output_type": "stream",
     "text": [
      "Best score by splits: (79.22, 'split8_test_score')\n",
      "Best score by mean: 76.49\n",
      "STD mean: 2.67\n",
      "Bbest params: {'estimator': SVC(C=5, degree=1, gamma=0.1), 'estimator__C': 5, 'estimator__degree': 1, 'estimator__gamma': 0.1, 'estimator__kernel': 'rbf', 'scaler': StandardScaler()}\n"
     ]
    }
   ],
   "source": [
    "df = pd.read_csv('A:\\Mestrado\\datasets\\water_potability.csv')\n",
    "\n",
    "df.fillna(df.median(), inplace=True)\n",
    "df = remove_outliers_iqr(df)    \n",
    "\n",
    "y = df['Potability']\n",
    "X = df.drop('Potability', axis = 1)\n",
    "\n",
    "X, y = smote_balance(X, y)\n",
    "\n",
    "chi2_feature = SkewedChi2Sampler(skewedness=.01, n_components=100, random_state=42)    \n",
    "X = chi2_feature.fit_transform(X, y)\n",
    "\n",
    "\n",
    "PIPELINE = Pipeline([('scaler', None), ('estimator', SVC())])\n",
    "\n",
    "cv = RepeatedKFold(n_splits=10, n_repeats=3, random_state=RANDOM_SEED)\n",
    "grid_search = GridSearchCV(estimator=PIPELINE, param_grid=GRID, \n",
    "                            scoring='accuracy', n_jobs=-1, cv=cv, refit=True, return_train_score=False)\n",
    "\n",
    "grid_result = grid_search.fit(X, y)\n",
    "# summarize results\n",
    "print(f'Best score by splits: {best_score_by_split(grid_result.cv_results_)}')\n",
    "print(f'Best score by mean: {round(grid_result.best_score_ * 100, 2)}')\n",
    "print(f'STD mean: {round(grid_result.cv_results_[\"std_test_score\"].sum() / grid_result.cv_results_[\"std_test_score\"].size * 100, 2)}')\n",
    "print(f'Best params: {grid_result.best_params_}')"
   ]
  },
  {
   "cell_type": "markdown",
   "id": "01c3d261",
   "metadata": {},
   "source": [
    "### Mediana valores nulos - Subs outliers média - Normalização - SMOTE"
   ]
  },
  {
   "cell_type": "code",
   "execution_count": 30,
   "id": "37210cbe",
   "metadata": {},
   "outputs": [
    {
     "name": "stdout",
     "output_type": "stream",
     "text": [
      "Best score by splits: (77.69, 'split8_test_score')\n",
      "Best score by mean: 74.6\n",
      "STD mean: 2.09\n",
      "Bbest params: {'estimator': SVC(C=20, degree=1, gamma=0.1), 'estimator__C': 20, 'estimator__degree': 1, 'estimator__gamma': 0.1, 'estimator__kernel': 'rbf', 'scaler': StandardScaler()}\n"
     ]
    }
   ],
   "source": [
    "df = pd.read_csv('A:\\Mestrado\\datasets\\water_potability.csv')\n",
    "\n",
    "df.fillna(df.median(), inplace=True)\n",
    "for variable in cols:\n",
    "    replace_with_mean(df, variable)\n",
    "\n",
    "y = df['Potability']\n",
    "X = df.drop('Potability', axis = 1)\n",
    "\n",
    "X, y = smote_balance(X, y)\n",
    "\n",
    "chi2_feature = SkewedChi2Sampler(skewedness=.01, n_components=100, random_state=42)    \n",
    "X = chi2_feature.fit_transform(X, y)\n",
    "\n",
    "\n",
    "PIPELINE = Pipeline([('scaler', None), ('estimator', SVC())])\n",
    "\n",
    "cv = RepeatedKFold(n_splits=10, n_repeats=3, random_state=RANDOM_SEED)\n",
    "grid_search = GridSearchCV(estimator=PIPELINE, param_grid=GRID, \n",
    "                            scoring='accuracy', n_jobs=-1, cv=cv, refit=True, return_train_score=False)\n",
    "\n",
    "grid_result = grid_search.fit(X, y)\n",
    "# summarize results\n",
    "print(f'Best score by splits: {best_score_by_split(grid_result.cv_results_)}')\n",
    "print(f'Best score by mean: {round(grid_result.best_score_ * 100, 2)}')\n",
    "print(f'STD mean: {round(grid_result.cv_results_[\"std_test_score\"].sum() / grid_result.cv_results_[\"std_test_score\"].size * 100, 2)}')\n",
    "print(f'Best params: {grid_result.best_params_}')"
   ]
  },
  {
   "cell_type": "markdown",
   "id": "b3a8c889",
   "metadata": {},
   "source": [
    "### Mediana valores nulos - Subs outliers mediana - Normalização - SMOTE"
   ]
  },
  {
   "cell_type": "code",
   "execution_count": 31,
   "id": "e6c82a27",
   "metadata": {},
   "outputs": [
    {
     "name": "stdout",
     "output_type": "stream",
     "text": [
      "Best score by splits: (76.75, 'split1_test_score')\n",
      "Best score by mean: 74.66\n",
      "STD mean: 2.07\n",
      "Bbest params: {'estimator': SVC(C=20, degree=1, gamma=0.1), 'estimator__C': 20, 'estimator__degree': 1, 'estimator__gamma': 0.1, 'estimator__kernel': 'rbf', 'scaler': StandardScaler()}\n"
     ]
    }
   ],
   "source": [
    "df = pd.read_csv('A:\\Mestrado\\datasets\\water_potability.csv')\n",
    "\n",
    "df.fillna(df.median(), inplace=True)\n",
    "for variable in cols:\n",
    "    replace_with_median(df, variable)\n",
    "\n",
    "y = df['Potability']\n",
    "X = df.drop('Potability', axis = 1)\n",
    "\n",
    "X, y = smote_balance(X, y)\n",
    "\n",
    "chi2_feature = SkewedChi2Sampler(skewedness=.01, n_components=100, random_state=42)    \n",
    "X = chi2_feature.fit_transform(X, y)\n",
    "\n",
    "\n",
    "PIPELINE = Pipeline([('scaler', None), ('estimator', SVC())])\n",
    "\n",
    "cv = RepeatedKFold(n_splits=10, n_repeats=3, random_state=RANDOM_SEED)\n",
    "grid_search = GridSearchCV(estimator=PIPELINE, param_grid=GRID, \n",
    "                            scoring='accuracy', n_jobs=-1, cv=cv, refit=True, return_train_score=False)\n",
    "\n",
    "grid_result = grid_search.fit(X, y)\n",
    "# summarize results\n",
    "print(f'Best score by splits: {best_score_by_split(grid_result.cv_results_)}')\n",
    "print(f'Best score by mean: {round(grid_result.best_score_ * 100, 2)}')\n",
    "print(f'STD mean: {round(grid_result.cv_results_[\"std_test_score\"].sum() / grid_result.cv_results_[\"std_test_score\"].size * 100, 2)}')\n",
    "print(f'Best params: {grid_result.best_params_}')"
   ]
  },
  {
   "cell_type": "markdown",
   "id": "5d31eced",
   "metadata": {},
   "source": [
    "### Mediana valores nulos - Subs outliers valores limites - Normalização - SMOTE"
   ]
  },
  {
   "cell_type": "code",
   "execution_count": 32,
   "id": "a1436578",
   "metadata": {},
   "outputs": [
    {
     "name": "stdout",
     "output_type": "stream",
     "text": [
      "Best score by splits: (77.5, 'split0_test_score')\n",
      "Best score by mean: 74.11\n",
      "STD mean: 1.91\n",
      "Bbest params: {'estimator': SVC(C=5, degree=1, gamma=0.1), 'estimator__C': 5, 'estimator__degree': 1, 'estimator__gamma': 0.1, 'estimator__kernel': 'rbf', 'scaler': StandardScaler()}\n"
     ]
    }
   ],
   "source": [
    "df = pd.read_csv('A:\\Mestrado\\datasets\\water_potability.csv')\n",
    "\n",
    "df.fillna(df.median(), inplace=True)\n",
    "\n",
    "for variable in cols:\n",
    "    replace_with_limits(df, variable)\n",
    "\n",
    "y = df['Potability']\n",
    "X = df.drop('Potability', axis = 1)\n",
    "\n",
    "X, y = smote_balance(X, y)\n",
    "\n",
    "chi2_feature = SkewedChi2Sampler(skewedness=.01, n_components=100, random_state=42)    \n",
    "X = chi2_feature.fit_transform(X, y)\n",
    "\n",
    "\n",
    "PIPELINE = Pipeline([('scaler', None), ('estimator', SVC())])\n",
    "\n",
    "cv = RepeatedKFold(n_splits=10, n_repeats=3, random_state=RANDOM_SEED)\n",
    "grid_search = GridSearchCV(estimator=PIPELINE, param_grid=GRID, \n",
    "                            scoring='accuracy', n_jobs=-1, cv=cv, refit=True, return_train_score=False)\n",
    "\n",
    "grid_result = grid_search.fit(X, y)\n",
    "# summarize results\n",
    "print(f'Best score by splits: {best_score_by_split(grid_result.cv_results_)}')\n",
    "print(f'Best score by mean: {round(grid_result.best_score_ * 100, 2)}')\n",
    "print(f'STD mean: {round(grid_result.cv_results_[\"std_test_score\"].sum() / grid_result.cv_results_[\"std_test_score\"].size * 100, 2)}')\n",
    "print(f'Best params: {grid_result.best_params_}')"
   ]
  },
  {
   "cell_type": "markdown",
   "id": "1076d639",
   "metadata": {},
   "source": [
    "### EM para valores nulos - Retirando Outliers - normalização - SMOTE"
   ]
  },
  {
   "cell_type": "code",
   "execution_count": 33,
   "id": "aaec5678",
   "metadata": {},
   "outputs": [
    {
     "name": "stdout",
     "output_type": "stream",
     "text": [
      "Best score by splits: (78.0, 'split0_test_score')\n",
      "Best score by mean: 74.97\n",
      "STD mean: 2.01\n",
      "Bbest params: {'estimator': SVC(C=10, degree=1, gamma=0.1), 'estimator__C': 10, 'estimator__degree': 1, 'estimator__gamma': 0.1, 'estimator__kernel': 'rbf', 'scaler': StandardScaler()}\n"
     ]
    }
   ],
   "source": [
    "df = pd.read_csv('A:\\Mestrado\\datasets\\water_potability.csv')\n",
    "df = expectation_maximization_to_data_frame(df, ALL_COLUMNS)\n",
    "\n",
    "for variable in cols:\n",
    "    remove_outliers_iqr(df)\n",
    "\n",
    "y = df['Potability']\n",
    "X = df.drop('Potability', axis = 1)\n",
    "\n",
    "X, y = smote_balance(X, y)\n",
    "chi2_feature = SkewedChi2Sampler(skewedness=.01, n_components=100, random_state=42)    \n",
    "X = chi2_feature.fit_transform(X, y)\n",
    "\n",
    "PIPELINE = Pipeline([('scaler', None), ('estimator', SVC())])\n",
    "\n",
    "cv = RepeatedKFold(n_splits=10, n_repeats=3, random_state=RANDOM_SEED)\n",
    "grid_search = GridSearchCV(estimator=PIPELINE, param_grid=GRID, \n",
    "                            scoring='accuracy', n_jobs=-1, cv=cv, refit=True, return_train_score=False)\n",
    "\n",
    "grid_result = grid_search.fit(X, y)\n",
    "# summarize results\n",
    "print(f'Best score by splits: {best_score_by_split(grid_result.cv_results_)}')\n",
    "print(f'Best score by mean: {round(grid_result.best_score_ * 100, 2)}')\n",
    "print(f'STD mean: {round(grid_result.cv_results_[\"std_test_score\"].sum() / grid_result.cv_results_[\"std_test_score\"].size * 100, 2)}')\n",
    "print(f'Best params: {grid_result.best_params_}')"
   ]
  },
  {
   "cell_type": "markdown",
   "id": "2a14a57c",
   "metadata": {},
   "source": [
    "## EM para valores nulos - Média Out - normalização - SMOTE"
   ]
  },
  {
   "cell_type": "code",
   "execution_count": 34,
   "id": "f5a96a08",
   "metadata": {},
   "outputs": [
    {
     "name": "stdout",
     "output_type": "stream",
     "text": [
      "Best score by splits: (77.5, 'split2_test_score')\n",
      "Best score by mean: 74.3\n",
      "STD mean: 2.09\n",
      "Bbest params: {'estimator': SVC(C=10, degree=1, gamma=0.1), 'estimator__C': 10, 'estimator__degree': 1, 'estimator__gamma': 0.1, 'estimator__kernel': 'rbf', 'scaler': StandardScaler()}\n"
     ]
    }
   ],
   "source": [
    "df = pd.read_csv('A:\\Mestrado\\datasets\\water_potability.csv')\n",
    "df = expectation_maximization_to_data_frame(df, ALL_COLUMNS)\n",
    "\n",
    "for variable in cols:\n",
    "    replace_with_mean(df, variable)\n",
    "\n",
    "y = df['Potability']\n",
    "X = df.drop('Potability', axis = 1)\n",
    "\n",
    "X, y = smote_balance(X, y)\n",
    "chi2_feature = SkewedChi2Sampler(skewedness=.01, n_components=100, random_state=42)    \n",
    "X = chi2_feature.fit_transform(X, y)\n",
    "\n",
    "\n",
    "PIPELINE = Pipeline([('scaler', None), ('estimator', SVC())])\n",
    "\n",
    "cv = RepeatedKFold(n_splits=10, n_repeats=3, random_state=RANDOM_SEED)\n",
    "grid_search = GridSearchCV(estimator=PIPELINE, param_grid=GRID, \n",
    "                            scoring='accuracy', n_jobs=-1, cv=cv, refit=True, return_train_score=False)\n",
    "\n",
    "grid_result = grid_search.fit(X, y)\n",
    "# summarize results\n",
    "print(f'Best score by splits: {best_score_by_split(grid_result.cv_results_)}')\n",
    "print(f'Best score by mean: {round(grid_result.best_score_ * 100, 2)}')\n",
    "print(f'STD mean: {round(grid_result.cv_results_[\"std_test_score\"].sum() / grid_result.cv_results_[\"std_test_score\"].size * 100, 2)}')\n",
    "print(f'Best params: {grid_result.best_params_}')"
   ]
  },
  {
   "cell_type": "markdown",
   "id": "f47868ec",
   "metadata": {},
   "source": [
    "### EM para valores nulos - Mediana Out - normalização - SMOTE\n"
   ]
  },
  {
   "cell_type": "code",
   "execution_count": 35,
   "id": "48244926",
   "metadata": {},
   "outputs": [
    {
     "name": "stdout",
     "output_type": "stream",
     "text": [
      "Best score by splits: (77.44, 'split8_test_score')\n",
      "Best score by mean: 73.55\n",
      "STD mean: 2.14\n",
      "Bbest params: {'estimator': SVC(C=10, degree=1, gamma=0.1), 'estimator__C': 10, 'estimator__degree': 1, 'estimator__gamma': 0.1, 'estimator__kernel': 'rbf', 'scaler': StandardScaler()}\n"
     ]
    }
   ],
   "source": [
    "df = pd.read_csv('A:\\Mestrado\\datasets\\water_potability.csv')\n",
    "df = expectation_maximization_to_data_frame(df, ALL_COLUMNS)\n",
    "\n",
    "for variable in cols:\n",
    "    replace_with_median(df, variable)\n",
    "\n",
    "y = df['Potability']\n",
    "X = df.drop('Potability', axis = 1)\n",
    "\n",
    "X, y = smote_balance(X, y)\n",
    "chi2_feature = SkewedChi2Sampler(skewedness=.01, n_components=100, random_state=42)    \n",
    "X = chi2_feature.fit_transform(X, y)\n",
    "\n",
    "\n",
    "PIPELINE = Pipeline([('scaler', None), ('estimator', SVC())])\n",
    "\n",
    "cv = RepeatedKFold(n_splits=10, n_repeats=3, random_state=RANDOM_SEED)\n",
    "grid_search = GridSearchCV(estimator=PIPELINE, param_grid=GRID, \n",
    "                            scoring='accuracy', n_jobs=-1, cv=cv, refit=True, return_train_score=False)\n",
    "\n",
    "grid_result = grid_search.fit(X, y)\n",
    "# summarize results\n",
    "print(f'Best score by splits: {best_score_by_split(grid_result.cv_results_)}')\n",
    "print(f'Best score by mean: {round(grid_result.best_score_ * 100, 2)}')\n",
    "print(f'STD mean: {round(grid_result.cv_results_[\"std_test_score\"].sum() / grid_result.cv_results_[\"std_test_score\"].size * 100, 2)}')\n",
    "print(f'Best params: {grid_result.best_params_}')"
   ]
  },
  {
   "cell_type": "markdown",
   "id": "7fe81986",
   "metadata": {},
   "source": [
    "### EM para valores nulos - Subs outliers valores limites - Normalização - SMOTE\n"
   ]
  },
  {
   "cell_type": "code",
   "execution_count": 36,
   "id": "cd530885",
   "metadata": {},
   "outputs": [
    {
     "name": "stdout",
     "output_type": "stream",
     "text": [
      "Best score by splits: (74.69, 'split8_test_score')\n",
      "Best score by mean: 72.76\n",
      "STD mean: 2.24\n",
      "Bbest params: {'estimator': SVC(C=5, degree=1, gamma=0.1), 'estimator__C': 5, 'estimator__degree': 1, 'estimator__gamma': 0.1, 'estimator__kernel': 'rbf', 'scaler': StandardScaler()}\n"
     ]
    }
   ],
   "source": [
    "df = pd.read_csv('A:\\Mestrado\\datasets\\water_potability.csv')\n",
    "df = expectation_maximization_to_data_frame(df, ALL_COLUMNS)\n",
    "\n",
    "for variable in cols:\n",
    "    replace_with_limits(df, variable)\n",
    "\n",
    "y = df['Potability']\n",
    "X = df.drop('Potability', axis = 1)\n",
    "\n",
    "X, y = smote_balance(X, y)\n",
    "chi2_feature = SkewedChi2Sampler(skewedness=.01, n_components=100, random_state=42)    \n",
    "X = chi2_feature.fit_transform(X, y)\n",
    "\n",
    "\n",
    "PIPELINE = Pipeline([('scaler', None), ('estimator', SVC())])\n",
    "\n",
    "cv = RepeatedKFold(n_splits=10, n_repeats=3, random_state=RANDOM_SEED)\n",
    "grid_search = GridSearchCV(estimator=PIPELINE, param_grid=GRID, \n",
    "                            scoring='accuracy', n_jobs=-1, cv=cv, refit=True, return_train_score=False)\n",
    "\n",
    "grid_result = grid_search.fit(X, y)\n",
    "# summarize results\n",
    "print(f'Best score by splits: {best_score_by_split(grid_result.cv_results_)}')\n",
    "print(f'Best score by mean: {round(grid_result.best_score_ * 100, 2)}')\n",
    "print(f'STD mean: {round(grid_result.cv_results_[\"std_test_score\"].sum() / grid_result.cv_results_[\"std_test_score\"].size * 100, 2)}')\n",
    "print(f'Best params: {grid_result.best_params_}')"
   ]
  }
 ],
 "metadata": {
  "colab": {
   "collapsed_sections": [
    "fcb6ea04",
    "f3be1c6e",
    "vbaH3Ngjj3em",
    "c1859452",
    "dd06a3d0",
    "1f348212",
    "f1ab9652",
    "e0f4afb6",
    "38a8159b",
    "1ee61075",
    "f9e90f34"
   ],
   "provenance": [],
   "toc_visible": true
  },
  "kernelspec": {
   "display_name": "Python 3",
   "language": "python",
   "name": "python3"
  },
  "language_info": {
   "codemirror_mode": {
    "name": "ipython",
    "version": 3
   },
   "file_extension": ".py",
   "mimetype": "text/x-python",
   "name": "python",
   "nbconvert_exporter": "python",
   "pygments_lexer": "ipython3",
   "version": "3.8.8"
  }
 },
 "nbformat": 4,
 "nbformat_minor": 5
}
